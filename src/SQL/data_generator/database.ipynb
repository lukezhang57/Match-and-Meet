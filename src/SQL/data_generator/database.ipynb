{
 "cells": [
  {
   "cell_type": "code",
   "execution_count": 3,
   "metadata": {},
   "outputs": [],
   "source": [
    "from faker import Faker\n",
    "import names\n",
    "import google.auth\n",
    "from google.cloud.sql.connector import Connector\n",
    "from google.auth.transport.requests import Request\n",
    "import sqlalchemy\n",
    "import random\n",
    "import requests\n",
    "import time\n",
    "import csv\n",
    "import pandas as pd\n",
    "from bs4 import BeautifulSoup"
   ]
  },
  {
   "cell_type": "code",
   "execution_count": 1,
   "metadata": {},
   "outputs": [],
   "source": [
    "def get_majors():\n",
    "    url = \"https://myillini.illinois.edu/Programs\"\n",
    "    data = requests.get(url)\n",
    "    html = BeautifulSoup(data.text,'html.parser')\n",
    "    results = html.find_all(\"p\",class_=\"mb-0\")\n",
    "    majors = []\n",
    "    for i in range(len(results)):\n",
    "        str = results[i].text.replace(\"\\n\", \"\")\n",
    "        majors.append(str)\n",
    "    return majors\n",
    "\n",
    "def get_classes():\n",
    "    df = pd.read_csv(\"https://waf.cs.illinois.edu/discovery/gpa.csv\")\n",
    "    df.groupby(\"Course Title\").agg(\"count\").reset_index()\n",
    "    classes = df[\"Course Title\"][df[\"Year\"]>=2021]\n",
    "    courses = []\n",
    "    for i in range(len(classes)):\n",
    "        if classes[i] not in courses:\n",
    "            courses.append(classes[i])\n",
    "    return courses"
   ]
  },
  {
   "cell_type": "code",
   "execution_count": 4,
   "metadata": {},
   "outputs": [
    {
     "name": "stdout",
     "output_type": "stream",
     "text": [
      "['Accountancy', 'Accountancy + Data Science', 'ACES Undeclared', 'Acting', 'Actuarial Science', 'Advertising', 'Aerospace Engineering', 'African American Studies', 'Agri-Accounting', 'Agribusiness, Markets & Management', 'Agricultural and Biological Engineering (ACES)', 'Agricultural and Biological Engineering (ENG)', 'Agricultural and Consumer Economics', 'Agricultural Communications', 'Agricultural Education', 'Agricultural Leadership, Education, and Communications', 'Agronomy', 'Animal Sciences', 'Anthropology', 'Architectural Studies', 'Art and Art History ', 'Art Education (K-12)', 'Art Undeclared ', 'Arts and Entertainment Technology ', 'Asian American Studies', 'Astronomy', 'Astronomy + Data Science', 'Astrophysics', 'Atmospheric Sciences', 'Biochemistry', 'Bioengineering', 'Biology', 'Brain and Cognitive Science', 'Business Undeclared', 'Chemical Engineering', 'Chemistry', 'Civil Engineering', 'Classics', 'Communication', 'Community Health', 'Comparative and World Literature', 'Computer Engineering', 'Computer Science', 'Computer Science and Advertising', 'Computer Science and Animal Sciences', 'Computer Science and Anthropology', 'Computer Science and Astronomy', 'Computer Science and Chemistry', 'Computer Science and Crop Sciences', 'Computer Science and Economics ', 'Computer Science and Education, Learning Sciences', 'Computer Science and Education, Secondary Education', 'Computer Science and Geography & Geographic Information Science', 'Computer Science and Linguistics', 'Computer Science and Music', 'Computer Science and Philosophy', 'Consumer Economics & Finance', 'Costume Design and Technology', 'Creative Writing', 'Crop Sciences', 'Dance (BA)', 'Dance (BFA)', 'Dance, BA and Kinesiology, BS (Dual Degree Program)', 'Dietetics', 'Early Childhood Education (Birth-Grade 2)', 'Earth, Society, and Environmental Sustainability', 'East Asian Languages and Cultures', 'Econometrics and Quantitative Economics', 'Economics', 'Electrical Engineering', 'Elementary Education (Grades 1-6)', 'Engineering Mechanics', 'Engineering Technology and Management for Agricultural Systems', 'Engineering Undeclared', 'English', 'Environmental Economics & Policy', 'Farm Management', 'Finance', 'Finance + Data Science', 'Finance in Agri-Business', 'Financial Planning', 'Food Science', 'Food Science & Human Nutrition', 'French', \"Gender and Women's Studies\", 'Geography and Geographic Information Science', 'Geology', 'Germanic Studies', 'Global Studies', 'Graphic Design', 'Health Sciences, Interdisciplinary ', 'History', 'History of Art', 'Hospitality Management', 'Human Development and Family Studies', 'Human Nutrition', 'Industrial Design', 'Industrial Engineering', 'Information Sciences', 'Information Sciences + Data Science', 'Information Systems', 'Integrative Biology', 'Interdisciplinary Studies', 'Italian', 'Jazz Performance', 'Journalism', 'Kinesiology', 'Landscape Architecture ', 'Latin American Studies', 'Latina/Latino Studies', 'Learning and Education Studies', 'Lighting Design and Technology ', 'Linguistics', 'Linguistics and Teaching English as a Second Language', 'Lyric Theatre', 'Management', 'Marketing', 'Materials Science and Engineering', 'Mathematics', 'Mathematics and Computer Science', 'Mechanical Engineering', 'Media and Cinema Studies', 'Metropolitan Food and Environmental Systems', 'Middle Grades Education (Grades 5-8)', 'Molecular and Cellular Biology', 'Music', 'Music Composition ', 'Music Education (K-12)', 'Music Instrumental Performance', 'Music Open Studies', 'Music Voice Performance', 'Musicology', 'Natural Resources and Environmental Sciences', 'Neural Engineering', 'Neuroscience', 'Nuclear, Plasma, and Radiological Engineering', 'Operations Management', 'Organizational and Community Leadership', 'Philosophy', 'Physics', 'Plant Biotechnology', 'Policy, International Trade & Development', 'Political Science', 'Portuguese', 'Psychology', 'Public Policy & Law', 'Recreation, Sport and Tourism', 'Religion', 'Russian, East European, and Eurasian Studies', 'Scenic Design', 'Scenic Technology', 'Secondary Education', 'Secondary Education: Biology', 'Secondary Education: Chemistry', 'Secondary Education: Earth Science', 'Secondary Education: English ', 'Secondary Education: Mathematics', 'Secondary Education: Mathematics (LAS)', 'Secondary Education: Physics', 'Secondary Education: Social Studies', 'Slavic Studies', 'Social Work', 'Sociology', 'Sound Design and Technology', 'Spanish', 'Special Education', 'Speech and Hearing Science', 'Stage Management', 'Statistics', 'Statistics and Computer Science', 'Strategy, Innovation and Entrepreneurship', 'Studio Art (BA)', 'Studio Art (BFA)', 'Supply Chain Management', 'Sustainable Design', 'Systems Engineering and Design ', 'Teacher Education: French (K-12)', 'Teacher Education: German (K-12)', 'Teacher Education: Kinesiology - Physical Education (K-12)', 'Teacher Education: Spanish (K-12)', 'Theatre Studies', 'Undeclared', 'Urban Studies and Planning']\n"
     ]
    }
   ],
   "source": [
    "MAJORS = get_majors()\n",
    "CLASSES = get_classes()  \n",
    "RESIDENCE = [\"ISR\", \"Snyder\",\"Wassaja\",\"Scott\",\"Hopkins\",\"Nugent\",\"Weston\",\"Bousfield\", \"Suites at Third\", \"Skyline Tower\",\"The Dean\",\"The HERE\",\"309 Green\",\"FAR\",\"PAR\",\"Tower at Third\"]\n",
    "RSOS = [\"Association of Computing Machinery\", \"Asian American Association\", \"Illini Esports\", \"iRobotics\", \"Cricket Club of Illinois\", \"Engineering Council\", \"Illini Biliards Club\", \"Illini Kendo Club\", \"Illini Powerlifting Club\", \"K-Project\", \"Men's Club Soccer\"]\n",
    "INTERESTS = [\"Powerlifting\", \"Soccer\", \"Basketball\", \"Football\",\"Badminton\",\"Tennis\",\"Table Tennis\",\"Running\",\"Cycling\"]\n",
    "print (MAJORS)"
   ]
  },
  {
   "cell_type": "code",
   "execution_count": 52,
   "metadata": {},
   "outputs": [],
   "source": [
    "# ONLY RUN ALL OF THIS IF YOU ABSOLUTELY NEED TO; DATABASE IS ALREADY POPULATED WITH PREEXISTING VALUES\n",
    "def generateTuple ():\n",
    "    firstName, lastName = names.get_first_name(), names.get_last_name()\n",
    "    netId = firstName.lower()[0] + lastName.lower() + str(random.randint(0, 9))\n",
    "    residence = random.choice(RESIDENCE)\n",
    "    majorId = random.randint(0, len(MAJORS) - 1)\n",
    "    major = MAJORS[majorId]\n",
    "        \n",
    "    courses = \"\"\n",
    "    # Generate 3 to 6 random distinct classes\n",
    "    class_ixs = random.sample(range(0, len(CLASSES)), random.randint(3, 6))\n",
    "    for ix in range (0, len(class_ixs)):\n",
    "        if (ix != len(class_ixs) - 1):\n",
    "            courses += CLASSES[class_ixs[ix]] + \", \"\n",
    "        else:\n",
    "            courses += CLASSES[class_ixs[ix]]\n",
    "\n",
    "    hobbies = \"\"\n",
    "    # Generate up to 5 random distinct interests\n",
    "    hobbyIds = random.sample(range(0, len(INTERESTS)), random.randint(0, 5)) \n",
    "    for ix in range (0, len(hobbyIds)):\n",
    "        if (ix != len(hobbyIds) - 1):\n",
    "            hobbies += INTERESTS[ix] + \", \"\n",
    "        else:\n",
    "            hobbies += INTERESTS[ix]\n",
    "    \n",
    "    # Generate up to three RSOs\n",
    "    rso_ids = random.sample(range(0, len(RSOS) - 1), random.randint(0, 3))\n",
    "\n",
    "    # Password is just the reverse of the NetID\n",
    "    return {\"netId\" : netId, \"firstName\" : firstName, \"lastName\" : lastName, \"password\" : netId[::-1], \"majorId\" : majorId, \"major\" : major, \"residence\" : residence,  \"courses\" : courses, \"hobbyIds\" : hobbyIds, \"hobbies\" : hobbies, \"RSO_IDS\" : rso_ids}\n",
    "    \n",
    "def generateTables():\n",
    "    students = []\n",
    "    major = []\n",
    "    login = []\n",
    "    interests = []\n",
    "    RSOMembers = []\n",
    "    seen = {}\n",
    "    # Generate 7500 rows of data\n",
    "    for ix in range (15000):\n",
    "        row = generateTuple()\n",
    "        if (row[\"netId\"] not in seen):\n",
    "            seen[row[\"netId\"]] = True\n",
    "            gradYear = random.randint(2021,2026)\n",
    "            friends = random.sample(students,random.randint(1,6))\n",
    "            student_tuple = (row[\"netId\"], row[\"firstName\"], row[\"lastName\"], row[\"major\"], row[\"residence\"], gradYear, friends)\n",
    "            major_tuple = (row[\"majorId\"], row[\"netId\"], row[\"courses\"])\n",
    "            login_tuple = (row[\"netId\"], row[\"firstName\"], row[\"lastName\"], row[\"password\"])\n",
    "            RSO_ids = row[\"RSO_IDS\"]\n",
    "            for jx in range (0, len(RSO_ids)):\n",
    "                RSOMembers.append((RSO_ids[jx], row[\"netId\"], row[\"firstName\"], row[\"lastName\"]))\n",
    "            \n",
    "            interest_ids = row[\"hobbyIds\"]\n",
    "            for kx in range (0, len(interest_ids)):\n",
    "                interests.append((interest_ids[kx], row[\"netId\"], INTERESTS[interest_ids[kx]]))\n",
    "\n",
    "            students.append(student_tuple)\n",
    "            major.append(major_tuple)\n",
    "            login.append(login_tuple)\n",
    "\n",
    "    return students, major, login, interests, RSOMembers\n",
    "\n",
    "def generateCSVs():\n",
    "    data = generateTables()\n",
    "    files = [\"Students.csv\", \"Major.csv\", \"Login.csv\", \"Interests.csv\", \"RSOMembers.csv\"]\n",
    "    for ix in range (0, len(files)):\n",
    "        with open (\"./data/\" + files[ix], 'w', newline='') as out:\n",
    "            csv_out = csv.writer(out)\n",
    "            for row in data[ix]:\n",
    "                csv_out.writerow(row)"
   ]
  },
  {
   "cell_type": "code",
   "execution_count": 53,
   "metadata": {},
   "outputs": [],
   "source": [
    "generateCSVs()"
   ]
  },
  {
   "cell_type": "code",
   "execution_count": null,
   "metadata": {},
   "outputs": [],
   "source": []
  }
 ],
 "metadata": {
  "kernelspec": {
   "display_name": "Python 3.8.5 ('base')",
   "language": "python",
   "name": "python3"
  },
  "language_info": {
   "codemirror_mode": {
    "name": "ipython",
    "version": 3
   },
   "file_extension": ".py",
   "mimetype": "text/x-python",
   "name": "python",
   "nbconvert_exporter": "python",
   "pygments_lexer": "ipython3",
   "version": "3.8.5"
  },
  "orig_nbformat": 4,
  "vscode": {
   "interpreter": {
    "hash": "4578bffd38896b9aff6f50ae33a1e8572fe3591d354fc7b88ded955fa997acbc"
   }
  }
 },
 "nbformat": 4,
 "nbformat_minor": 2
}
